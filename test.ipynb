{
 "cells": [
  {
   "cell_type": "code",
   "execution_count": 1,
   "id": "f64af047-3be0-4683-b5d3-64518d2ebe17",
   "metadata": {},
   "outputs": [],
   "source": [
    "from functions.sky_functions import *\n",
    "from functions.alignment_functions import *\n",
    "\n",
    "from astropy.table import Table"
   ]
  },
  {
   "cell_type": "code",
   "execution_count": 2,
   "id": "26b079d7-aa7e-4dbc-91cf-d3ace7d34818",
   "metadata": {},
   "outputs": [],
   "source": [
    "LRGs = Table.read('sample_data/sample_LRGs.fits')"
   ]
  },
  {
   "cell_type": "code",
   "execution_count": 3,
   "id": "1e0394a3-0afe-42b5-ac84-0620dd9e1a64",
   "metadata": {},
   "outputs": [
    {
     "data": {
      "text/html": [
       "<i>Table length=4</i>\n",
       "<table id=\"table46912564632208\" class=\"table-striped table-bordered table-condensed\">\n",
       "<thead><tr><th>MORPHTYPE</th><th>RA</th><th>DEC</th><th>FLUX_R</th><th>FLUX_Z</th><th>FLUX_W1</th><th>E1</th><th>E2</th><th>zmag</th><th>rz</th></tr></thead>\n",
       "<thead><tr><th>bytes4</th><th>float64</th><th>float64</th><th>float32</th><th>float32</th><th>float32</th><th>float32</th><th>float32</th><th>float32</th><th>float32</th></tr></thead>\n",
       "<tr><td>DEV</td><td>200.01126510964488</td><td>1.184772721711952</td><td>6.751958</td><td>21.43266</td><td>55.805935</td><td>-0.06397945</td><td>0.009995843</td><td>19.17231</td><td>1.2541158</td></tr>\n",
       "<tr><td>DEV</td><td>200.0145060556931</td><td>1.178786174342609</td><td>8.18776</td><td>25.940357</td><td>59.05693</td><td>-0.12400029</td><td>0.022351222</td><td>18.965061</td><td>1.2520272</td></tr>\n",
       "<tr><td>DEV</td><td>200.0170503174841</td><td>1.2067389904454537</td><td>8.926818</td><td>26.637094</td><td>60.219337</td><td>-0.10410782</td><td>-0.020560648</td><td>18.936283</td><td>1.1869754</td></tr>\n",
       "<tr><td>DEV</td><td>200.01745600192672</td><td>1.1619329580951878</td><td>3.6599488</td><td>14.317721</td><td>43.038696</td><td>0.20927882</td><td>-0.18908519</td><td>19.610315</td><td>1.4809972</td></tr>\n",
       "</table>"
      ],
      "text/plain": [
       "<Table length=4>\n",
       "MORPHTYPE         RA                DEC         ...    zmag       rz   \n",
       "  bytes4       float64            float64       ...  float32   float32 \n",
       "--------- ------------------ ------------------ ... --------- ---------\n",
       "      DEV 200.01126510964488  1.184772721711952 ...  19.17231 1.2541158\n",
       "      DEV  200.0145060556931  1.178786174342609 ... 18.965061 1.2520272\n",
       "      DEV  200.0170503174841 1.2067389904454537 ... 18.936283 1.1869754\n",
       "      DEV 200.01745600192672 1.1619329580951878 ... 19.610315 1.4809972"
      ]
     },
     "execution_count": 3,
     "metadata": {},
     "output_type": "execute_result"
    }
   ],
   "source": [
    "LRGs[:4]"
   ]
  },
  {
   "cell_type": "code",
   "execution_count": null,
   "id": "32f8d693-5dae-4fc7-a2b7-05308ea2e3b3",
   "metadata": {},
   "outputs": [],
   "source": []
  }
 ],
 "metadata": {
  "kernelspec": {
   "display_name": "DESI master",
   "language": "python",
   "name": "desi-master"
  },
  "language_info": {
   "codemirror_mode": {
    "name": "ipython",
    "version": 3
   },
   "file_extension": ".py",
   "mimetype": "text/x-python",
   "name": "python",
   "nbconvert_exporter": "python",
   "pygments_lexer": "ipython3",
   "version": "3.8.3"
  }
 },
 "nbformat": 4,
 "nbformat_minor": 5
}
