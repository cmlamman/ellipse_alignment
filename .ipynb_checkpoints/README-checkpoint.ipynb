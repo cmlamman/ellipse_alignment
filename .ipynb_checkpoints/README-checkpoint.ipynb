{
 "cells": [
  {
   "cell_type": "markdown",
   "id": "431a82f9-6fef-41b9-8f99-b6dbb4b3d6cd",
   "metadata": {},
   "source": [
    "The complex ellipticity (of a 2d ellipse) is given as: \n",
    "$$ \\epsilon = \\frac{a-b}{a+b} \\exp{2i\\phi} = \\epsilon_1 + i\\epsilon_2 $$\n",
    "The alignment metric used here is a measure of relative ellipticity.\n",
    "\n",
    "Given a central galaxy, $C$, and a neighboring galaxy, $A$:\n",
    "\n",
    "**1. For each $\\mathbf{A_i}$, compute $\\mathbf{\\epsilon'_i}$, its ellipticity relative to the seperation vector from $\\mathbf{C}$ to $\\mathbf{A_i}$**\n",
    "\n",
    "$\\theta = $ position angle of separation vector \n",
    "\n",
    "$\\phi = $ position angle of $A_i = \\frac{1}{2} \\arctan{\\frac{\\epsilon_{2i}}{\\epsilon_{1i}}}$\n",
    "\n",
    "($0<\\theta, \\phi<\\pi$)\n",
    "\n",
    "$\\phi' $ = relative position angle of $A_i = \\phi - \\theta \\ \\ \\ \\ \\ \\ \\ $<br>\n",
    "_If the  primary axis of $A_i$ is parallel to the separation vector, $\\phi' = 0\\ $ (or equivalently $= \\pi$). If perpendicular, $\\phi' = \\pm \\frac{\\pi}{2} \\ $._\n",
    "\n",
    "$\\epsilon'_i= \\frac{a-b}{a+b} \\exp{2i\\phi'_i} \\ \\ \\ \\ $ _where $a$ and $b$ are the shape of $A_i$_\n",
    "\n",
    "$\\text{Re}(\\epsilon'_i) = \\epsilon'_{1i} = |\\epsilon'_i|\\cos{2\\phi'_i}$"
   ]
  },
  {
   "cell_type": "markdown",
   "id": "afd9c9a3-c239-458a-8507-69e104cfaf45",
   "metadata": {},
   "source": [
    "**2. Compute the mean relative (real) ellipticitiy and mean radial separation in $\\mathbf{A}$**\n",
    "\n",
    "$\\bar{\\epsilon_1}' = \\sum_i \\epsilon_{1i}'\\ \\ \\ \\ \\ \\ $ $\\bar{r} = \\sum_i r_i'$"
   ]
  },
  {
   "cell_type": "markdown",
   "id": "5dbe09d2-3d28-486a-a15f-6eaef5033ccd",
   "metadata": {},
   "source": [
    "**3. Plot $\\mathbf{\\bar{\\epsilon}'_1}$ and $\\mathbf{\\bar{r}}$ for every $\\mathbf{A}$, averaging over many $\\mathbf{C}$s.**\n",
    "\n",
    "Would expect the plot to look something like this:"
   ]
  },
  {
   "cell_type": "markdown",
   "id": "a5d86ca5-4a19-45b5-9f20-96b16d0f7a1f",
   "metadata": {},
   "source": [
    "$\\bar{\\epsilon_1}'\\pm 1 \\sigma$"
   ]
  },
  {
   "cell_type": "code",
   "execution_count": null,
   "id": "7b730914-31af-4543-a72c-41e55b92e50b",
   "metadata": {},
   "outputs": [],
   "source": []
  }
 ],
 "metadata": {
  "kernelspec": {
   "display_name": "DESI master",
   "language": "python",
   "name": "desi-master"
  },
  "language_info": {
   "codemirror_mode": {
    "name": "ipython",
    "version": 3
   },
   "file_extension": ".py",
   "mimetype": "text/x-python",
   "name": "python",
   "nbconvert_exporter": "python",
   "pygments_lexer": "ipython3",
   "version": "3.8.3"
  }
 },
 "nbformat": 4,
 "nbformat_minor": 5
}
