{
 "cells": [
  {
   "cell_type": "code",
   "execution_count": 2,
   "id": "f64af047-3be0-4683-b5d3-64518d2ebe17",
   "metadata": {},
   "outputs": [],
   "source": [
    "from sky_functions import *"
   ]
  },
  {
   "cell_type": "code",
   "execution_count": 10,
   "id": "26b079d7-aa7e-4dbc-91cf-d3ace7d34818",
   "metadata": {},
   "outputs": [
    {
     "data": {
      "text/latex": [
       "$0.785322\\mathrm{rad}$"
      ],
      "text/plain": [
       "<Angle 0.78532201 rad>"
      ]
     },
     "execution_count": 10,
     "metadata": {},
     "output_type": "execute_result"
    }
   ],
   "source": [
    "get_pa(0,0,1,1, u_result='rad')"
   ]
  },
  {
   "cell_type": "code",
   "execution_count": null,
   "id": "1e0394a3-0afe-42b5-ac84-0620dd9e1a64",
   "metadata": {},
   "outputs": [],
   "source": []
  }
 ],
 "metadata": {
  "kernelspec": {
   "display_name": "DESI master",
   "language": "python",
   "name": "desi-master"
  },
  "language_info": {
   "codemirror_mode": {
    "name": "ipython",
    "version": 3
   },
   "file_extension": ".py",
   "mimetype": "text/x-python",
   "name": "python",
   "nbconvert_exporter": "python",
   "pygments_lexer": "ipython3",
   "version": "3.8.3"
  }
 },
 "nbformat": 4,
 "nbformat_minor": 5
}
