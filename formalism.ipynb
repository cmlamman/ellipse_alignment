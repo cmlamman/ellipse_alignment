{
 "cells": [
  {
   "cell_type": "markdown",
   "id": "a1ce0549-0d2f-4cd4-a7d4-5f0bc92dc986",
   "metadata": {},
   "source": [
    "#### The alignment metric used here is relative ellipticity, averaged over many pairs of galaxies, as a function of pair separation."
   ]
  },
  {
   "cell_type": "markdown",
   "id": "122b4758-c323-44ea-937c-cfa5f45e3062",
   "metadata": {},
   "source": [
    "The complex ellipticity (of a 2d elipse) is given by\n",
    "\n",
    "$$ \\epsilon = \\frac{a-b}{a+b} \\exp{2i\\phi} = \\epsilon_1 + i\\epsilon_2 $$"
   ]
  },
  {
   "cell_type": "markdown",
   "id": "2dd98eac-5f23-4929-a15e-7b92e94d7b22",
   "metadata": {},
   "source": [
    "<img src="images/alignment_diagram.png" width="800" />"
   ]
  },
  {
   "cell_type": "markdown",
   "id": "a3e9f4c2-acac-40ec-a646-9a7bc829e37e",
   "metadata": {},
   "source": [
    "**Given a central galaxy, $\\mathbf{C}$, and neighboring galaxy, $\\mathbf{A}$, the ellipticity of $\\mathbf{A}$ relative to $\\mathbf{C}$, $\\mathbf{\\epsilon_{A1}'}$, is found as follows:**"
   ]
  },
  {
   "cell_type": "markdown",
   "id": "07139661-550e-4ba6-b3eb-ddf24782e978",
   "metadata": {},
   "source": [
    "$\\theta = $ position angle of separation vector \n",
    "\n",
    "$\\phi = $ position angle of $A = \\frac{1}{2} \\arctan{\\frac{\\epsilon_{A2}}{\\epsilon_{A1}}}$\n",
    "\n",
    "($0<\\theta, \\phi<\\pi$)\n",
    "\n",
    "$\\phi' $ = relative position angle of $A = \\phi - \\theta \\ \\ \\ \\ \\ \\ \\ $<br>\n",
    "_If the  primary axis of $A$ is parallel to the separation vector, $\\phi' = 0\\ $ (or equivalently $= \\pi$). If perpendicular, $\\phi' = \\pm \\frac{\\pi}{2} \\ $._\n",
    "\n",
    "$\\epsilon'_A= \\frac{a-b}{a+b} \\exp{2i\\phi'_A} \\ \\ \\ \\ $ _where $a$ and $b$ are the shape of $A$_\n",
    "\n",
    "$\\text{Re}(\\epsilon'_A) = \\epsilon'_{A1} = |\\epsilon'_A|\\cos{2\\phi'_A}$"
   ]
  },
  {
   "cell_type": "markdown",
   "id": "05df1bed-1af2-4cba-8db2-192ed3bcd76e",
   "metadata": {},
   "source": [
    "**Then the mean relative (real) ellipticitiy is computed for many pairs as a function of the pairs' radial separation**\n",
    "\n",
    "$\\bar{\\epsilon_1}' = \\sum_i \\epsilon_{1i}'\\ \\ \\ \\ \\ \\ $ $\\bar{r} = \\sum_i r_i'$"
   ]
  },
  {
   "cell_type": "markdown",
   "id": "3a3ca180-be34-4c5e-9a80-76e2bf7ca52d",
   "metadata": {},
   "source": [
    "**A plot of $\\mathbf{\\bar{\\epsilon}'_1}$ and $\\mathbf{\\bar{r}}$ for every $\\mathbf{A}$, averaging over many $\\mathbf{C}$s, would look something like this**"
   ]
  },
  {
   "cell_type": "markdown",
   "id": "165ea55e-fef0-4870-90bc-0a2effb4b837",
   "metadata": {
    "tags": []
   },
   "source": [
    "<img src="images/alignment_qualitative.png" width="800" />"
   ]
  },
  {
   "cell_type": "code",
   "execution_count": null,
   "id": "62ad44be-90bb-49f1-86ff-30df9d67d9c6",
   "metadata": {},
   "outputs": [],
   "source": []
  }
 ],
 "metadata": {
  "kernelspec": {
   "display_name": "DESI master",
   "language": "python",
   "name": "desi-master"
  },
  "language_info": {
   "codemirror_mode": {
    "name": "ipython",
    "version": 3
   },
   "file_extension": ".py",
   "mimetype": "text/x-python",
   "name": "python",
   "nbconvert_exporter": "python",
   "pygments_lexer": "ipython3",
   "version": "3.8.3"
  }
 },
 "nbformat": 4,
 "nbformat_minor": 5
}
